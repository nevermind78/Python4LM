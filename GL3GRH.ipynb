{
  "cells": [
    {
      "cell_type": "markdown",
      "metadata": {
        "id": "view-in-github",
        "colab_type": "text"
      },
      "source": [
        "<a href=\"https://colab.research.google.com/github/nevermind78/Python4LM/blob/master/GL3GRH.ipynb\" target=\"_parent\"><img src=\"https://colab.research.google.com/assets/colab-badge.svg\" alt=\"Open In Colab\"/></a>"
      ]
    },
    {
      "cell_type": "markdown",
      "metadata": {
        "id": "jVzHu8zNSKmE"
      },
      "source": [
        "\n",
        "<h1 style=\"border:2px solid Tomato;\">Examen Python 2022 session Principale</h1>\n",
        "<h1 style=\"border:2px solid DodgerBlue;\">Problème</h1>\n"
      ]
    },
    {
      "cell_type": "markdown",
      "metadata": {
        "id": "a0BfthJeSKmG"
      },
      "source": [
        "\n",
        "<p>On se propose de crypter un message, formé uniquement par des lettres majuscules et des espaces, en utilisant la méthode de chiffrement de Polybe qui consiste à :</p>\n",
        "<ul ><li><i  >&nbsp;</i>Ranger, dans une matrice carrée de dimension 5x5, les lettres d’un mot-clé donné suivies des lettres restantes de l’alphabet dans l’ordre, à l’exception de la lettre ‘W’.</li><li><i  >&nbsp;</i>Le mot-clé est une chaine de caractères formée uniquement de L lettres majuscules, sans doublons et ne contenant pas la lettre ‘W’ (avec 3&lt;=L&lt;=10).</li><li><i  >&nbsp;</i>Remplacer chaque lettre du message à crypter par les coordonnées de sa position dans la matrice (le numéro de la ligne suivi du numéro de la colonnes), sachant que :<ul  ><li><i  >&nbsp;</i>Le caractère espace ne subit aucun cryptage ;</li><li><i  >&nbsp;</i>La lettre ‘W’ sera remplacée par les coordonnées de la lettre ‘00’</li></ul></li></ul>\n"
      ]
    },
    {
      "cell_type": "markdown",
      "metadata": {
        "id": "dmD_eCQ2SKmG"
      },
      "source": [
        "<p>Pour le mot-clé MYSTER, on construit la matrice suivante :</p>\n",
        "<center>\n",
        "<table class=\"table table-bordered table-striped\" ><tbody><tr><td width=\"28\"><br></td><td width=\"28\">1</td><td width=\"28\">2</td><td width=\"28\">3</td><td width=\"28\">4</td><td width=\"28\">5</td></tr><tr><td width=\"28\">1</td><td width=\"28\">M</td><td width=\"28\">Y</td><td width=\"28\">S</td><td width=\"28\">T</td><td width=\"28\">E</td></tr><tr><td width=\"28\">2</td><td width=\"28\">R</td><td width=\"28\">A</td><td width=\"28\">B</td><td width=\"28\">C</td><td width=\"28\">D</td></tr><tr><td width=\"28\">3</td><td width=\"28\">F</td><td width=\"28\">G</td><td width=\"28\">H</td><td width=\"28\">I</td><td width=\"28\">J</td></tr><tr><td width=\"28\">4</td><td width=\"28\">K</td><td width=\"28\">L</td><td width=\"28\">N</td><td width=\"28\">O</td><td width=\"28\">P</td></tr><tr><td width=\"28\">5</td><td width=\"28\">Q</td><td width=\"28\">U</td><td width=\"28\">V</td><td width=\"28\">X</td><td width=\"28\">Z</td></tr></tbody></table>\n",
        "</center>\n",
        "<p>Le cryptage du message ‘CHERCHER POLYBE DANS WIKIPEDIA’ sera :</p>\n",
        "<p>‘2433152124331521_454442122315_25224313_003441344515253422’ ou le mot ‘WIKIPEDIA’ est crypté comme suit : ‘003441344515253422’ car ‘W’ remplacé par ‘00’, 'I' est remplacé par ‘34’, ‘K’ est remplacé par ‘41’, ‘P’ est remplacé par ‘45’, ‘E’ est remplacé par ‘15’, ‘D’ est remplacé par ‘25’ et ‘A’ est remplacé par ‘22’.</p>"
      ]
    },
    {
      "cell_type": "markdown",
      "metadata": {
        "id": "a_C8FQ48SKmH"
      },
      "source": [
        "<p><strong><em>Travail demandé</em></strong></p>\n",
        "<ol><li>Ecrire une fonction Python <strong>Crypter_Polybe(message, motcle)</strong>, qui permet de crypter un message donné selon le mot-clé en respectant les contraintes cités ci-dessus selon la méthode de chiffrement de Polybe.</li><li>Ecrire une fonction <strong>Decrypter_Polybe(message, motcle)</strong>, qui permet de décrypter le message donné selon le mot-clé et le chiffrement de Polybe.</li></ol>"
      ]
    },
    {
      "cell_type": "code",
      "execution_count": null,
      "metadata": {
        "id": "fb-DWWeSSKmH"
      },
      "outputs": [],
      "source": [
        "import string"
      ]
    },
    {
      "cell_type": "code",
      "execution_count": null,
      "metadata": {
        "id": "U55-xSB4SKmI"
      },
      "outputs": [],
      "source": [
        "alphabet=string.ascii_uppercase"
      ]
    },
    {
      "cell_type": "code",
      "execution_count": null,
      "metadata": {
        "id": "L9jw9H0SSKmI"
      },
      "outputs": [],
      "source": [
        "''.join(list(filter(lambda x:x!='W',alphabet)))"
      ]
    },
    {
      "cell_type": "code",
      "execution_count": null,
      "metadata": {
        "id": "bKKiL_MrSKmI"
      },
      "outputs": [],
      "source": [
        "alphabet='ABCDEFGHIJKLMNOPQRSTUVXYZ'"
      ]
    },
    {
      "cell_type": "markdown",
      "source": [
        "$$M=\\begin{pmatrix}1&2&3\\\\4&5&6\\\\7&8&9 \\end{pmatrix}$$"
      ],
      "metadata": {
        "id": "rLNQ6GxCEMmp"
      }
    },
    {
      "cell_type": "code",
      "source": [
        "M=[[1,2,3],[4,5,6],[7,8,9]]"
      ],
      "metadata": {
        "id": "wnAekkueSZG1"
      },
      "execution_count": null,
      "outputs": []
    },
    {
      "cell_type": "code",
      "source": [
        "M[1][2]"
      ],
      "metadata": {
        "id": "Zg5iF7ybSZJs",
        "outputId": "bc2d7813-f4ee-4b20-ba4d-fa53454f9fc4",
        "colab": {
          "base_uri": "https://localhost:8080/"
        }
      },
      "execution_count": null,
      "outputs": [
        {
          "output_type": "execute_result",
          "data": {
            "text/plain": [
              "6"
            ]
          },
          "metadata": {},
          "execution_count": 2
        }
      ]
    },
    {
      "cell_type": "code",
      "source": [
        "M=[[0]*5]*5 # A NE PAS FAIRE"
      ],
      "metadata": {
        "id": "iCHDm8e6SZMW"
      },
      "execution_count": null,
      "outputs": []
    },
    {
      "cell_type": "code",
      "source": [
        "M"
      ],
      "metadata": {
        "id": "3E6-zC_GSZPO",
        "outputId": "fca921ca-508d-4423-cb95-a07e3bea4219",
        "colab": {
          "base_uri": "https://localhost:8080/"
        }
      },
      "execution_count": null,
      "outputs": [
        {
          "output_type": "execute_result",
          "data": {
            "text/plain": [
              "[[0, 0, 0, 0, 0],\n",
              " [0, 0, 0, 0, 0],\n",
              " [0, 0, 0, 0, 0],\n",
              " [0, 0, 0, 0, 0],\n",
              " [0, 0, 0, 0, 0]]"
            ]
          },
          "metadata": {},
          "execution_count": 6
        }
      ]
    },
    {
      "cell_type": "code",
      "source": [
        "M[0][0]=2023\n",
        "M"
      ],
      "metadata": {
        "id": "eZTodnIVSZR9",
        "outputId": "e3112709-7706-4c31-e882-4d16f3a7c432",
        "colab": {
          "base_uri": "https://localhost:8080/"
        }
      },
      "execution_count": null,
      "outputs": [
        {
          "output_type": "execute_result",
          "data": {
            "text/plain": [
              "[[2023, 0, 0, 0, 0],\n",
              " [2023, 0, 0, 0, 0],\n",
              " [2023, 0, 0, 0, 0],\n",
              " [2023, 0, 0, 0, 0],\n",
              " [2023, 0, 0, 0, 0]]"
            ]
          },
          "metadata": {},
          "execution_count": 7
        }
      ]
    },
    {
      "cell_type": "code",
      "source": [
        "M=[[0,0,0,0,0] for i in range(5)]"
      ],
      "metadata": {
        "id": "-mGvM5Y-SZUl"
      },
      "execution_count": null,
      "outputs": []
    },
    {
      "cell_type": "code",
      "source": [
        "M"
      ],
      "metadata": {
        "id": "NlZIv9IuSZXN",
        "outputId": "b4485e79-4bbd-4d95-cf8e-e3d2782d9a28",
        "colab": {
          "base_uri": "https://localhost:8080/"
        }
      },
      "execution_count": null,
      "outputs": [
        {
          "output_type": "execute_result",
          "data": {
            "text/plain": [
              "[[0, 0, 0, 0, 0],\n",
              " [0, 0, 0, 0, 0],\n",
              " [0, 0, 0, 0, 0],\n",
              " [0, 0, 0, 0, 0],\n",
              " [0, 0, 0, 0, 0]]"
            ]
          },
          "metadata": {},
          "execution_count": 9
        }
      ]
    },
    {
      "cell_type": "code",
      "source": [
        "M[0][0]=-1\n",
        "M"
      ],
      "metadata": {
        "id": "C7PZCflaSZZ9",
        "outputId": "29aef374-6309-425c-8d3c-bc56a9633885",
        "colab": {
          "base_uri": "https://localhost:8080/"
        }
      },
      "execution_count": null,
      "outputs": [
        {
          "output_type": "execute_result",
          "data": {
            "text/plain": [
              "[[-1, 0, 0, 0, 0],\n",
              " [0, 0, 0, 0, 0],\n",
              " [0, 0, 0, 0, 0],\n",
              " [0, 0, 0, 0, 0],\n",
              " [0, 0, 0, 0, 0]]"
            ]
          },
          "metadata": {},
          "execution_count": 10
        }
      ]
    },
    {
      "cell_type": "code",
      "source": [
        "def matrice(motcle):\n",
        "  \"\"\"Procedural paradigm\"\"\"\n",
        "  alphabet='ABCDEFGHIJKLMNOPQRSTUVXYZ'\n",
        "  M=[[0,0,0,0,0] for i in range(5)]\n",
        "  i,j=0,0\n",
        "  for pos in range(len(motcle)):\n",
        "    if j==5:\n",
        "      j=0\n",
        "      i+=1\n",
        "    M[i][j]=motcle[pos]\n",
        "    j+=1\n",
        "  for pos in range(len(alphabet)):\n",
        "    if j==5:\n",
        "      j=0\n",
        "      i+=1\n",
        "    if alphabet[pos] not in motcle:\n",
        "      M[i][j]=alphabet[pos]\n",
        "      j+=1\n",
        "  return M"
      ],
      "metadata": {
        "id": "NTFubdXiSZcd"
      },
      "execution_count": null,
      "outputs": []
    },
    {
      "cell_type": "code",
      "source": [
        "matrice('MYSTER')"
      ],
      "metadata": {
        "id": "j3vbhZwQGSnN",
        "outputId": "f2016ac2-8e98-4e01-f7b4-a7b54196972b",
        "colab": {
          "base_uri": "https://localhost:8080/"
        }
      },
      "execution_count": null,
      "outputs": [
        {
          "output_type": "execute_result",
          "data": {
            "text/plain": [
              "[['M', 'Y', 'S', 'T', 'E'],\n",
              " ['R', 'A', 'B', 'C', 'D'],\n",
              " ['F', 'G', 'H', 'I', 'J'],\n",
              " ['K', 'L', 'N', 'O', 'P'],\n",
              " ['Q', 'U', 'V', 'X', 'Z']]"
            ]
          },
          "metadata": {},
          "execution_count": 15
        }
      ]
    },
    {
      "cell_type": "code",
      "source": [],
      "metadata": {
        "id": "J8FsRbPvGSkT"
      },
      "execution_count": null,
      "outputs": []
    },
    {
      "cell_type": "code",
      "source": [],
      "metadata": {
        "id": "d3tyfrmnGShX"
      },
      "execution_count": null,
      "outputs": []
    },
    {
      "cell_type": "code",
      "source": [],
      "metadata": {
        "id": "xBdeseizGSec"
      },
      "execution_count": null,
      "outputs": []
    },
    {
      "cell_type": "code",
      "source": [],
      "metadata": {
        "id": "AOBPzewkGSUe"
      },
      "execution_count": null,
      "outputs": []
    },
    {
      "cell_type": "code",
      "execution_count": null,
      "metadata": {
        "id": "ft3npoYSSKmK"
      },
      "outputs": [],
      "source": [
        "cle = \"MYSTER\"\n",
        "msg = \"CHERCHER POLYBE DANS WIKIPEDIA\"\n",
        "crypte = Crypter_Polybe(msg, cle)\n",
        "print(crypte)\n",
        " \n",
        "# decrypter\n",
        "claire = Decrypter_Polybe(crypte, cle)\n",
        "print(claire)"
      ]
    }
  ],
  "metadata": {
    "kernelspec": {
      "display_name": "Python 3 (ipykernel)",
      "language": "python",
      "name": "python3"
    },
    "language_info": {
      "codemirror_mode": {
        "name": "ipython",
        "version": 3
      },
      "file_extension": ".py",
      "mimetype": "text/x-python",
      "name": "python",
      "nbconvert_exporter": "python",
      "pygments_lexer": "ipython3",
      "version": "3.9.13"
    },
    "colab": {
      "provenance": [],
      "include_colab_link": true
    }
  },
  "nbformat": 4,
  "nbformat_minor": 0
}