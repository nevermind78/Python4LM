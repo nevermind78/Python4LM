{
  "cells": [
    {
      "cell_type": "markdown",
      "metadata": {
        "id": "view-in-github",
        "colab_type": "text"
      },
      "source": [
        "<a href=\"https://colab.research.google.com/github/nevermind78/Python4LM/blob/master/GL3H2_Exam2022_E.ipynb\" target=\"_parent\"><img src=\"https://colab.research.google.com/assets/colab-badge.svg\" alt=\"Open In Colab\"/></a>"
      ]
    },
    {
      "cell_type": "markdown",
      "metadata": {
        "id": "jVzHu8zNSKmE"
      },
      "source": [
        "\n",
        "<h1 style=\"border:2px solid Tomato;\">Examen Python 2022 session Principale</h1>\n",
        "<h1 style=\"border:2px solid DodgerBlue;\">Problème</h1>\n"
      ]
    },
    {
      "cell_type": "markdown",
      "metadata": {
        "id": "a0BfthJeSKmG"
      },
      "source": [
        "\n",
        "<p>On se propose de crypter un message, formé uniquement par des lettres majuscules et des espaces, en utilisant la méthode de chiffrement de Polybe qui consiste à :</p>\n",
        "<ul ><li><i  >&nbsp;</i>Ranger, dans une matrice carrée de dimension 5x5, les lettres d’un mot-clé donné suivies des lettres restantes de l’alphabet dans l’ordre, à l’exception de la lettre ‘W’.</li><li><i  >&nbsp;</i>Le mot-clé est une chaine de caractères formée uniquement de L lettres majuscules, sans doublons et ne contenant pas la lettre ‘W’ (avec 3&lt;=L&lt;=10).</li><li><i  >&nbsp;</i>Remplacer chaque lettre du message à crypter par les coordonnées de sa position dans la matrice (le numéro de la ligne suivi du numéro de la colonnes), sachant que :<ul  ><li><i  >&nbsp;</i>Le caractère espace ne subit aucun cryptage ;</li><li><i  >&nbsp;</i>La lettre ‘W’ sera remplacée par les coordonnées de la lettre ‘00’</li></ul></li></ul>\n"
      ]
    },
    {
      "cell_type": "markdown",
      "metadata": {
        "id": "dmD_eCQ2SKmG"
      },
      "source": [
        "<p>Pour le mot-clé MYSTER, on construit la matrice suivante :</p>\n",
        "<center>\n",
        "<table class=\"table table-bordered table-striped\" ><tbody><tr><td width=\"28\"><br></td><td width=\"28\">1</td><td width=\"28\">2</td><td width=\"28\">3</td><td width=\"28\">4</td><td width=\"28\">5</td></tr><tr><td width=\"28\">1</td><td width=\"28\">M</td><td width=\"28\">Y</td><td width=\"28\">S</td><td width=\"28\">T</td><td width=\"28\">E</td></tr><tr><td width=\"28\">2</td><td width=\"28\">R</td><td width=\"28\">A</td><td width=\"28\">B</td><td width=\"28\">C</td><td width=\"28\">D</td></tr><tr><td width=\"28\">3</td><td width=\"28\">F</td><td width=\"28\">G</td><td width=\"28\">H</td><td width=\"28\">I</td><td width=\"28\">J</td></tr><tr><td width=\"28\">4</td><td width=\"28\">K</td><td width=\"28\">L</td><td width=\"28\">N</td><td width=\"28\">O</td><td width=\"28\">P</td></tr><tr><td width=\"28\">5</td><td width=\"28\">Q</td><td width=\"28\">U</td><td width=\"28\">V</td><td width=\"28\">X</td><td width=\"28\">Z</td></tr></tbody></table>\n",
        "</center>\n",
        "<p>Le cryptage du message ‘CHERCHER POLYBE DANS WIKIPEDIA’ sera :</p>\n",
        "<p>‘2433152124331521_454442122315_25224313_003441344515253422’ ou le mot ‘WIKIPEDIA’ est crypté comme suit : ‘003441344515253422’ car ‘W’ remplacé par ‘00’, 'I' est remplacé par ‘34’, ‘K’ est remplacé par ‘41’, ‘P’ est remplacé par ‘45’, ‘E’ est remplacé par ‘15’, ‘D’ est remplacé par ‘25’ et ‘A’ est remplacé par ‘22’.</p>"
      ]
    },
    {
      "cell_type": "markdown",
      "metadata": {
        "id": "a_C8FQ48SKmH"
      },
      "source": [
        "<p><strong><em>Travail demandé</em></strong></p>\n",
        "<ol><li>Ecrire une fonction Python <strong>Crypter_Polybe(message, motcle)</strong>, qui permet de crypter un message donné selon le mot-clé en respectant les contraintes cités ci-dessus selon la méthode de chiffrement de Polybe.</li><li>Ecrire une fonction <strong>Decrypter_Polybe(message, motcle)</strong>, qui permet de décrypter le message donné selon le mot-clé et le chiffrement de Polybe.</li></ol>"
      ]
    },
    {
      "cell_type": "code",
      "execution_count": null,
      "metadata": {
        "id": "fb-DWWeSSKmH"
      },
      "outputs": [],
      "source": [
        "import string"
      ]
    },
    {
      "cell_type": "code",
      "execution_count": null,
      "metadata": {
        "id": "U55-xSB4SKmI"
      },
      "outputs": [],
      "source": [
        "alphabet=string.ascii_uppercase"
      ]
    },
    {
      "cell_type": "code",
      "execution_count": null,
      "metadata": {
        "id": "L9jw9H0SSKmI"
      },
      "outputs": [],
      "source": [
        "''.join(list(filter(lambda x:x!='W',alphabet)))"
      ]
    },
    {
      "cell_type": "code",
      "execution_count": null,
      "metadata": {
        "id": "bKKiL_MrSKmI"
      },
      "outputs": [],
      "source": [
        "alphabet='ABCDEFGHIJKLMNOPQRSTUVXYZ'"
      ]
    },
    {
      "cell_type": "markdown",
      "source": [
        "$$M=\\begin{pmatrix}1&2&3\\\\4&6&8\\\\11&13&2023\\end{pmatrix}$$"
      ],
      "metadata": {
        "id": "0c44x2xBCk7n"
      }
    },
    {
      "cell_type": "code",
      "source": [
        "M=[[1,2,3],[4,6,8],[11,12,2023]]"
      ],
      "metadata": {
        "id": "wnAekkueSZG1"
      },
      "execution_count": 1,
      "outputs": []
    },
    {
      "cell_type": "code",
      "source": [
        "M[2][2]"
      ],
      "metadata": {
        "id": "Zg5iF7ybSZJs",
        "colab": {
          "base_uri": "https://localhost:8080/"
        },
        "outputId": "2c1e1d54-edd5-45f9-9eeb-989b89bd7315"
      },
      "execution_count": 2,
      "outputs": [
        {
          "output_type": "execute_result",
          "data": {
            "text/plain": [
              "2023"
            ]
          },
          "metadata": {},
          "execution_count": 2
        }
      ]
    },
    {
      "cell_type": "markdown",
      "source": [
        "* Matrice carré 5x5 avec des coéficients $0$"
      ],
      "metadata": {
        "id": "UBgii043DTdV"
      }
    },
    {
      "cell_type": "code",
      "source": [
        "M=[[0]*5]*5 # à ne pas faire\n",
        "M"
      ],
      "metadata": {
        "id": "iCHDm8e6SZMW",
        "colab": {
          "base_uri": "https://localhost:8080/"
        },
        "outputId": "f17f481e-bb80-4602-bd0e-55f4b14912da"
      },
      "execution_count": 10,
      "outputs": [
        {
          "output_type": "execute_result",
          "data": {
            "text/plain": [
              "[[0, 0, 0, 0, 0],\n",
              " [0, 0, 0, 0, 0],\n",
              " [0, 0, 0, 0, 0],\n",
              " [0, 0, 0, 0, 0],\n",
              " [0, 0, 0, 0, 0]]"
            ]
          },
          "metadata": {},
          "execution_count": 10
        }
      ]
    },
    {
      "cell_type": "code",
      "source": [
        "M[0][0]=2023\n",
        "M"
      ],
      "metadata": {
        "colab": {
          "base_uri": "https://localhost:8080/"
        },
        "id": "Dz57eL5NDSaq",
        "outputId": "375e97cf-d8b4-45b3-f4fa-16638c973a5f"
      },
      "execution_count": 11,
      "outputs": [
        {
          "output_type": "execute_result",
          "data": {
            "text/plain": [
              "[[2023, 0, 0, 0, 0],\n",
              " [2023, 0, 0, 0, 0],\n",
              " [2023, 0, 0, 0, 0],\n",
              " [2023, 0, 0, 0, 0],\n",
              " [2023, 0, 0, 0, 0]]"
            ]
          },
          "metadata": {},
          "execution_count": 11
        }
      ]
    },
    {
      "cell_type": "code",
      "source": [
        "M=[[0,0,0,0,0] for i in range(5)]#list comprehension \n",
        "M"
      ],
      "metadata": {
        "id": "3E6-zC_GSZPO",
        "colab": {
          "base_uri": "https://localhost:8080/"
        },
        "outputId": "a92fdb00-733d-4926-971d-45d7d0a17393"
      },
      "execution_count": 14,
      "outputs": [
        {
          "output_type": "execute_result",
          "data": {
            "text/plain": [
              "[[0, 0, 0, 0, 0],\n",
              " [0, 0, 0, 0, 0],\n",
              " [0, 0, 0, 0, 0],\n",
              " [0, 0, 0, 0, 0],\n",
              " [0, 0, 0, 0, 0]]"
            ]
          },
          "metadata": {},
          "execution_count": 14
        }
      ]
    },
    {
      "cell_type": "code",
      "source": [
        "M[0][0]=-1\n",
        "M"
      ],
      "metadata": {
        "id": "eZTodnIVSZR9",
        "colab": {
          "base_uri": "https://localhost:8080/"
        },
        "outputId": "602fd2d6-71ad-454d-cf16-5846b420f6c7"
      },
      "execution_count": 13,
      "outputs": [
        {
          "output_type": "execute_result",
          "data": {
            "text/plain": [
              "[[-1, 0, 0, 0, 0],\n",
              " [0, 0, 0, 0, 0],\n",
              " [0, 0, 0, 0, 0],\n",
              " [0, 0, 0, 0, 0],\n",
              " [0, 0, 0, 0, 0]]"
            ]
          },
          "metadata": {},
          "execution_count": 13
        }
      ]
    },
    {
      "cell_type": "code",
      "source": [
        "def matrice(motcle):\n",
        "  \"\"\" The hard way ( procedural)\"\"\"\n",
        "  M=[[0,0,0,0,0] for i in range(5)]\n",
        "  alphabet='ABCDEFGHIJKLMNOPQRSTUVXYZ'\n",
        "  i,j=0,0\n",
        "  for pos in range(len(motcle)):\n",
        "    if j==5:\n",
        "      i+=1\n",
        "      j=0\n",
        "    M[i][j]=motcle[pos]\n",
        "    j+=1\n",
        "  for pos in range(len(alphabet)):\n",
        "    if j==5:\n",
        "      i+=1\n",
        "      j=0\n",
        "    if alphabet[pos] not in motcle:\n",
        "      M[i][j]=alphabet[pos]\n",
        "      j+=1\n",
        "  return M"
      ],
      "metadata": {
        "id": "-mGvM5Y-SZUl"
      },
      "execution_count": 23,
      "outputs": []
    },
    {
      "cell_type": "code",
      "source": [
        "matrice('MYSTER')"
      ],
      "metadata": {
        "id": "NlZIv9IuSZXN",
        "colab": {
          "base_uri": "https://localhost:8080/"
        },
        "outputId": "34d9cd9d-70d3-494d-da2f-7cee846e11e8"
      },
      "execution_count": 24,
      "outputs": [
        {
          "output_type": "execute_result",
          "data": {
            "text/plain": [
              "[['M', 'Y', 'S', 'T', 'E'],\n",
              " ['R', 'A', 'B', 'C', 'D'],\n",
              " ['F', 'G', 'H', 'I', 'J'],\n",
              " ['K', 'L', 'N', 'O', 'P'],\n",
              " ['Q', 'U', 'V', 'X', 'Z']]"
            ]
          },
          "metadata": {},
          "execution_count": 24
        }
      ]
    },
    {
      "cell_type": "code",
      "source": [
        "def matrice2(motcle):\n",
        "  alphabet='ABCDEFGHIJKLMNOPQRSTUVXYZ'\n",
        "  L=list(motcle)+[char for char in alphabet if char not in motcle]\n",
        "  return [[L[5*i+j] for j in range(5)] for i in range(5)]"
      ],
      "metadata": {
        "id": "C7PZCflaSZZ9"
      },
      "execution_count": 33,
      "outputs": []
    },
    {
      "cell_type": "code",
      "source": [
        "matrice2('AMEL')"
      ],
      "metadata": {
        "id": "NTFubdXiSZcd",
        "colab": {
          "base_uri": "https://localhost:8080/"
        },
        "outputId": "db15b584-8dc9-49cd-adac-7bd20467a37d"
      },
      "execution_count": 36,
      "outputs": [
        {
          "output_type": "execute_result",
          "data": {
            "text/plain": [
              "[['A', 'M', 'E', 'L', 'B'],\n",
              " ['C', 'D', 'F', 'G', 'H'],\n",
              " ['I', 'J', 'K', 'N', 'O'],\n",
              " ['P', 'Q', 'R', 'S', 'T'],\n",
              " ['U', 'V', 'X', 'Y', 'Z']]"
            ]
          },
          "metadata": {},
          "execution_count": 36
        }
      ]
    },
    {
      "cell_type": "code",
      "source": [
        "def Crypter_Polybe(msg,cle):\n",
        "  M=matrice(cle)\n",
        "  crypte=''\n",
        "  for pos in range(len(msg)):\n",
        "    if msg[pos]==' ':\n",
        "      crypte+='_'\n",
        "    elif msg[pos]=='W':\n",
        "      crypte+='00'\n",
        "    else:\n",
        "      i,j=0,0\n",
        "      while msg[pos]!=M[i][j]:\n",
        "        j+=1\n",
        "        if j==5:\n",
        "          j=0\n",
        "          i+=1\n",
        "      crypte+=str(i+1)+str(j+1)\n",
        "  return crypte"
      ],
      "metadata": {
        "id": "EPsiYOP_LNXf"
      },
      "execution_count": 48,
      "outputs": []
    },
    {
      "cell_type": "code",
      "source": [
        "cle = \"MYSTER\"\n",
        "msg = \"CHERCHER POLYBE DANS WIKIPEDIA\"\n",
        "crypte = Crypter_Polybe(msg, cle)\n",
        "print(crypte)"
      ],
      "metadata": {
        "colab": {
          "base_uri": "https://localhost:8080/"
        },
        "id": "qaFgUmXzNKWg",
        "outputId": "f0df80e0-7b2a-4209-9fe3-49b0e54e871b"
      },
      "execution_count": 49,
      "outputs": [
        {
          "output_type": "stream",
          "name": "stdout",
          "text": [
            "2433152124331521_454442122315_25224313_003441344515253422\n"
          ]
        }
      ]
    },
    {
      "cell_type": "code",
      "execution_count": null,
      "metadata": {
        "id": "ft3npoYSSKmK"
      },
      "outputs": [],
      "source": [
        "cle = \"MYSTER\"\n",
        "msg = \"CHERCHER POLYBE DANS WIKIPEDIA\"\n",
        "crypte = Crypter_Polybe(msg, cle)\n",
        "print(crypte)\n",
        " \n",
        "# decrypter\n",
        "claire = Decrypter_Polybe(crypte, cle)\n",
        "print(claire)"
      ]
    }
  ],
  "metadata": {
    "kernelspec": {
      "display_name": "Python 3 (ipykernel)",
      "language": "python",
      "name": "python3"
    },
    "language_info": {
      "codemirror_mode": {
        "name": "ipython",
        "version": 3
      },
      "file_extension": ".py",
      "mimetype": "text/x-python",
      "name": "python",
      "nbconvert_exporter": "python",
      "pygments_lexer": "ipython3",
      "version": "3.9.13"
    },
    "colab": {
      "provenance": [],
      "include_colab_link": true
    }
  },
  "nbformat": 4,
  "nbformat_minor": 0
}