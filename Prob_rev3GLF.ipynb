{
  "cells": [
    {
      "cell_type": "markdown",
      "metadata": {
        "id": "view-in-github",
        "colab_type": "text"
      },
      "source": [
        "<a href=\"https://colab.research.google.com/github/nevermind78/Python4LM/blob/master/Prob_rev3GLF.ipynb\" target=\"_parent\"><img src=\"https://colab.research.google.com/assets/colab-badge.svg\" alt=\"Open In Colab\"/></a>"
      ]
    },
    {
      "cell_type": "markdown",
      "metadata": {
        "id": "jVzHu8zNSKmE"
      },
      "source": [
        "\n",
        "<h1 style=\"border:2px solid Tomato;\">Examen Python 2022 session Principale</h1>\n",
        "<h1 style=\"border:2px solid DodgerBlue;\">Problème</h1>\n"
      ]
    },
    {
      "cell_type": "markdown",
      "metadata": {
        "id": "a0BfthJeSKmG"
      },
      "source": [
        "\n",
        "<p>On se propose de crypter un message, formé uniquement par des lettres majuscules et des espaces, en utilisant la méthode de chiffrement de Polybe qui consiste à :</p>\n",
        "<ul ><li><i  >&nbsp;</i>Ranger, dans une matrice carrée de dimension 5x5, les lettres d’un mot-clé donné suivies des lettres restantes de l’alphabet dans l’ordre, à l’exception de la lettre ‘W’.</li><li><i  >&nbsp;</i>Le mot-clé est une chaine de caractères formée uniquement de L lettres majuscules, sans doublons et ne contenant pas la lettre ‘W’ (avec 3&lt;=L&lt;=10).</li><li><i  >&nbsp;</i>Remplacer chaque lettre du message à crypter par les coordonnées de sa position dans la matrice (le numéro de la ligne suivi du numéro de la colonnes), sachant que :<ul  ><li><i  >&nbsp;</i>Le caractère espace ne subit aucun cryptage ;</li><li><i  >&nbsp;</i>La lettre ‘W’ sera remplacée par les coordonnées de la lettre ‘00’</li></ul></li></ul>\n"
      ]
    },
    {
      "cell_type": "markdown",
      "metadata": {
        "id": "dmD_eCQ2SKmG"
      },
      "source": [
        "<p>Pour le mot-clé MYSTER, on construit la matrice suivante :</p>\n",
        "<center>\n",
        "<table class=\"table table-bordered table-striped\" ><tbody><tr><td width=\"28\"><br></td><td width=\"28\">1</td><td width=\"28\">2</td><td width=\"28\">3</td><td width=\"28\">4</td><td width=\"28\">5</td></tr><tr><td width=\"28\">1</td><td width=\"28\">M</td><td width=\"28\">Y</td><td width=\"28\">S</td><td width=\"28\">T</td><td width=\"28\">E</td></tr><tr><td width=\"28\">2</td><td width=\"28\">R</td><td width=\"28\">A</td><td width=\"28\">B</td><td width=\"28\">C</td><td width=\"28\">D</td></tr><tr><td width=\"28\">3</td><td width=\"28\">F</td><td width=\"28\">G</td><td width=\"28\">H</td><td width=\"28\">I</td><td width=\"28\">J</td></tr><tr><td width=\"28\">4</td><td width=\"28\">K</td><td width=\"28\">L</td><td width=\"28\">N</td><td width=\"28\">O</td><td width=\"28\">P</td></tr><tr><td width=\"28\">5</td><td width=\"28\">Q</td><td width=\"28\">U</td><td width=\"28\">V</td><td width=\"28\">X</td><td width=\"28\">Z</td></tr></tbody></table>\n",
        "</center>\n",
        "<p>Le cryptage du message ‘CHERCHER POLYBE DANS WIKIPEDIA’ sera :</p>\n",
        "<p>‘2433152124331521_454442122315_25224313_003441344515253422’ ou le mot ‘WIKIPEDIA’ est crypté comme suit : ‘003441344515253422’ car ‘W’ remplacé par ‘00’, 'I' est remplacé par ‘34’, ‘K’ est remplacé par ‘41’, ‘P’ est remplacé par ‘45’, ‘E’ est remplacé par ‘15’, ‘D’ est remplacé par ‘25’ et ‘A’ est remplacé par ‘22’.</p>"
      ]
    },
    {
      "cell_type": "markdown",
      "metadata": {
        "id": "a_C8FQ48SKmH"
      },
      "source": [
        "<p><strong><em>Travail demandé</em></strong></p>\n",
        "<ol><li>Ecrire une fonction Python <strong>Crypter_Polybe(message, motcle)</strong>, qui permet de crypter un message donné selon le mot-clé en respectant les contraintes cités ci-dessus selon la méthode de chiffrement de Polybe.</li><li>Ecrire une fonction <strong>Decrypter_Polybe(message, motcle)</strong>, qui permet de décrypter le message donné selon le mot-clé et le chiffrement de Polybe.</li></ol>"
      ]
    },
    {
      "cell_type": "code",
      "execution_count": null,
      "metadata": {
        "id": "fb-DWWeSSKmH"
      },
      "outputs": [],
      "source": [
        "import string"
      ]
    },
    {
      "cell_type": "code",
      "execution_count": null,
      "metadata": {
        "id": "U55-xSB4SKmI"
      },
      "outputs": [],
      "source": [
        "alphabet=string.ascii_uppercase"
      ]
    },
    {
      "cell_type": "code",
      "execution_count": null,
      "metadata": {
        "id": "L9jw9H0SSKmI"
      },
      "outputs": [],
      "source": [
        "''.join(list(filter(lambda x:x!='W',alphabet)))"
      ]
    },
    {
      "cell_type": "code",
      "execution_count": 18,
      "metadata": {
        "id": "bKKiL_MrSKmI"
      },
      "outputs": [],
      "source": [
        "alphabet='ABCDEFGHIJKLMNOPQRSTUVXYZ'"
      ]
    },
    {
      "cell_type": "code",
      "source": [],
      "metadata": {
        "id": "wnAekkueSZG1"
      },
      "execution_count": null,
      "outputs": []
    },
    {
      "cell_type": "markdown",
      "source": [
        "$$M=\\begin{pmatrix} 1&2&3\\\\4&5&6\\\\7&9&-1\\end{pmatrix}$$"
      ],
      "metadata": {
        "id": "MhrjcA-spFb8"
      }
    },
    {
      "cell_type": "code",
      "source": [
        "M=[[1,2,3],[4,5,6],[9,9,2023]]\n",
        "M"
      ],
      "metadata": {
        "id": "Zg5iF7ybSZJs",
        "colab": {
          "base_uri": "https://localhost:8080/"
        },
        "outputId": "564ce830-4f90-4e53-f7ae-c9deb5732ad1"
      },
      "execution_count": 2,
      "outputs": [
        {
          "output_type": "execute_result",
          "data": {
            "text/plain": [
              "[[1, 2, 3], [4, 5, 6], [9, 9, 2023]]"
            ]
          },
          "metadata": {},
          "execution_count": 2
        }
      ]
    },
    {
      "cell_type": "code",
      "source": [
        "M[1][2]"
      ],
      "metadata": {
        "id": "iCHDm8e6SZMW",
        "colab": {
          "base_uri": "https://localhost:8080/"
        },
        "outputId": "953ff8fe-afc3-454e-bdfc-3aa61f39a0c6"
      },
      "execution_count": 4,
      "outputs": [
        {
          "output_type": "execute_result",
          "data": {
            "text/plain": [
              "6"
            ]
          },
          "metadata": {},
          "execution_count": 4
        }
      ]
    },
    {
      "cell_type": "code",
      "source": [
        "M[2][2]=-1\n",
        "M"
      ],
      "metadata": {
        "id": "3E6-zC_GSZPO",
        "colab": {
          "base_uri": "https://localhost:8080/"
        },
        "outputId": "e2eaf6a1-d244-4016-b2ce-dd54f504998b"
      },
      "execution_count": 5,
      "outputs": [
        {
          "output_type": "execute_result",
          "data": {
            "text/plain": [
              "[[1, 2, 3], [4, 5, 6], [9, 9, -1]]"
            ]
          },
          "metadata": {},
          "execution_count": 5
        }
      ]
    },
    {
      "cell_type": "code",
      "source": [
        "M=[[0]*5]*5 # ATTENTION"
      ],
      "metadata": {
        "id": "eZTodnIVSZR9"
      },
      "execution_count": 8,
      "outputs": []
    },
    {
      "cell_type": "code",
      "source": [
        "M"
      ],
      "metadata": {
        "id": "-mGvM5Y-SZUl",
        "colab": {
          "base_uri": "https://localhost:8080/"
        },
        "outputId": "649a5e72-7e77-4725-b471-816e25d58cd9"
      },
      "execution_count": 9,
      "outputs": [
        {
          "output_type": "execute_result",
          "data": {
            "text/plain": [
              "[[0, 0, 0, 0, 0],\n",
              " [0, 0, 0, 0, 0],\n",
              " [0, 0, 0, 0, 0],\n",
              " [0, 0, 0, 0, 0],\n",
              " [0, 0, 0, 0, 0]]"
            ]
          },
          "metadata": {},
          "execution_count": 9
        }
      ]
    },
    {
      "cell_type": "code",
      "source": [
        "M[0][0]=-1\n",
        "M"
      ],
      "metadata": {
        "id": "NlZIv9IuSZXN",
        "colab": {
          "base_uri": "https://localhost:8080/"
        },
        "outputId": "7f5fedac-15eb-4789-ee57-4d6d2834df28"
      },
      "execution_count": 10,
      "outputs": [
        {
          "output_type": "execute_result",
          "data": {
            "text/plain": [
              "[[-1, 0, 0, 0, 0],\n",
              " [-1, 0, 0, 0, 0],\n",
              " [-1, 0, 0, 0, 0],\n",
              " [-1, 0, 0, 0, 0],\n",
              " [-1, 0, 0, 0, 0]]"
            ]
          },
          "metadata": {},
          "execution_count": 10
        }
      ]
    },
    {
      "cell_type": "code",
      "source": [
        "M=[[0 for i in range(5)] for j in range(5)]# the safe way\n",
        "M"
      ],
      "metadata": {
        "id": "C7PZCflaSZZ9",
        "colab": {
          "base_uri": "https://localhost:8080/"
        },
        "outputId": "c0c54d68-0791-4fe0-d7a4-6883c4fef25d"
      },
      "execution_count": 17,
      "outputs": [
        {
          "output_type": "execute_result",
          "data": {
            "text/plain": [
              "[[0, 0, 0, 0, 0],\n",
              " [0, 0, 0, 0, 0],\n",
              " [0, 0, 0, 0, 0],\n",
              " [0, 0, 0, 0, 0],\n",
              " [0, 0, 0, 0, 0]]"
            ]
          },
          "metadata": {},
          "execution_count": 17
        }
      ]
    },
    {
      "cell_type": "code",
      "source": [
        "M[0][0]=-1\n",
        "M"
      ],
      "metadata": {
        "id": "NTFubdXiSZcd",
        "colab": {
          "base_uri": "https://localhost:8080/"
        },
        "outputId": "d16ee9b2-3a91-40c9-eec6-db00d23a59e2"
      },
      "execution_count": 15,
      "outputs": [
        {
          "output_type": "execute_result",
          "data": {
            "text/plain": [
              "[[-1, 0, 0, 0, 0],\n",
              " [0, 0, 0, 0, 0],\n",
              " [0, 0, 0, 0, 0],\n",
              " [0, 0, 0, 0, 0],\n",
              " [0, 0, 0, 0, 0]]"
            ]
          },
          "metadata": {},
          "execution_count": 15
        }
      ]
    },
    {
      "cell_type": "code",
      "source": [
        "alphabet"
      ],
      "metadata": {
        "colab": {
          "base_uri": "https://localhost:8080/",
          "height": 36
        },
        "id": "UNvhkTM9rZ9T",
        "outputId": "3bb79728-ae7d-4db5-be3c-fc01f2e3227e"
      },
      "execution_count": 19,
      "outputs": [
        {
          "output_type": "execute_result",
          "data": {
            "text/plain": [
              "'ABCDEFGHIJKLMNOPQRSTUVXYZ'"
            ],
            "application/vnd.google.colaboratory.intrinsic+json": {
              "type": "string"
            }
          },
          "metadata": {},
          "execution_count": 19
        }
      ]
    },
    {
      "cell_type": "code",
      "source": [
        "def matrice(motcle):\n",
        "  \"\"\" procedural paradigm\"\"\"\n",
        "  M=[[0 for i in range(5)] for j in range(5)]# the safe way\n",
        "  alphabet='ABCDEFGHIJKLMNOPQRSTUVXYZ'\n",
        "  i,j=0,0\n",
        "  for pos in range(len(motcle)):\n",
        "    if j==5:\n",
        "      j=0\n",
        "      i+=1\n",
        "    M[i][j]=motcle[pos]\n",
        "    j+=1\n",
        "  for pos in range(len(alphabet)):\n",
        "    if j==5:\n",
        "      j=0\n",
        "      i+=1\n",
        "    if alphabet[pos] not in motcle:\n",
        "      M[i][j]=alphabet[pos]\n",
        "      j+=1\n",
        "  return M   "
      ],
      "metadata": {
        "id": "hsz4ZIDyrlMV"
      },
      "execution_count": 26,
      "outputs": []
    },
    {
      "cell_type": "code",
      "source": [
        "matrice('MYSTER')"
      ],
      "metadata": {
        "colab": {
          "base_uri": "https://localhost:8080/"
        },
        "id": "rsWFU0ohtYYg",
        "outputId": "f4ea423d-dcb9-41e4-de05-bdba8d11aa03"
      },
      "execution_count": 27,
      "outputs": [
        {
          "output_type": "execute_result",
          "data": {
            "text/plain": [
              "[['M', 'Y', 'S', 'T', 'E'],\n",
              " ['R', 'A', 'B', 'C', 'D'],\n",
              " ['F', 'G', 'H', 'I', 'J'],\n",
              " ['K', 'L', 'N', 'O', 'P'],\n",
              " ['Q', 'U', 'V', 'X', 'Z']]"
            ]
          },
          "metadata": {},
          "execution_count": 27
        }
      ]
    },
    {
      "cell_type": "code",
      "source": [
        "def matrice1(motcle):\n",
        "  L=list(motcle) + [ char for char in alphabet if char not in motcle]\n",
        "  M=[[0 for i in range(5)] for j in range(5)]\n",
        "  for pos in range(len(L)):\n",
        "    M[pos//5][pos%5]=L[pos]\n",
        "  return M"
      ],
      "metadata": {
        "id": "QTSfhBSQw2IF"
      },
      "execution_count": 35,
      "outputs": []
    },
    {
      "cell_type": "code",
      "source": [
        "matrice1('MYSTER')"
      ],
      "metadata": {
        "colab": {
          "base_uri": "https://localhost:8080/"
        },
        "id": "68fNP04vxzMh",
        "outputId": "e7ac5f72-052c-4ba9-b6ed-881ae4aea271"
      },
      "execution_count": 36,
      "outputs": [
        {
          "output_type": "execute_result",
          "data": {
            "text/plain": [
              "[['M', 'Y', 'S', 'T', 'E'],\n",
              " ['R', 'A', 'B', 'C', 'D'],\n",
              " ['F', 'G', 'H', 'I', 'J'],\n",
              " ['K', 'L', 'N', 'O', 'P'],\n",
              " ['Q', 'U', 'V', 'X', 'Z']]"
            ]
          },
          "metadata": {},
          "execution_count": 36
        }
      ]
    },
    {
      "cell_type": "code",
      "source": [
        "def matrice2(motcle):\n",
        "  L=list(motcle) + [ char for char in alphabet if char not in motcle]\n",
        "  return [[L[5*i+j] for j in range(5)] for i in range(5)]"
      ],
      "metadata": {
        "id": "CsHk_NQIye2z"
      },
      "execution_count": 37,
      "outputs": []
    },
    {
      "cell_type": "code",
      "source": [
        "matrice2('MYSTER')"
      ],
      "metadata": {
        "colab": {
          "base_uri": "https://localhost:8080/"
        },
        "id": "ZicJUvWzyptI",
        "outputId": "ce53bc5f-97c4-4d75-fc84-fafa92197a34"
      },
      "execution_count": 38,
      "outputs": [
        {
          "output_type": "execute_result",
          "data": {
            "text/plain": [
              "[['M', 'Y', 'S', 'T', 'E'],\n",
              " ['R', 'A', 'B', 'C', 'D'],\n",
              " ['F', 'G', 'H', 'I', 'J'],\n",
              " ['K', 'L', 'N', 'O', 'P'],\n",
              " ['Q', 'U', 'V', 'X', 'Z']]"
            ]
          },
          "metadata": {},
          "execution_count": 38
        }
      ]
    },
    {
      "cell_type": "code",
      "source": [
        "def Crypter_Polybe(msg,cle):\n",
        "  M=matrice(cle)\n",
        "  crypte=''\n",
        "  for pos in range(len(msg)):\n",
        "    if msg[pos]=='W':\n",
        "      crypte+='00'\n",
        "    elif msg[pos]==' ':\n",
        "      crypte+='_'\n",
        "    else:\n",
        "      i,j=0,0\n",
        "      while msg[pos]!=M[i][j]:\n",
        "        j=j+1\n",
        "        if j==5:\n",
        "          j=0\n",
        "          i+=1\n",
        "      crypte+=str(i+1)+str(j+1)\n",
        "  return crypte     "
      ],
      "metadata": {
        "id": "KcUB86YizsRn"
      },
      "execution_count": 42,
      "outputs": []
    },
    {
      "cell_type": "code",
      "execution_count": 43,
      "metadata": {
        "id": "ft3npoYSSKmK",
        "colab": {
          "base_uri": "https://localhost:8080/"
        },
        "outputId": "e9ed00ab-13e2-4701-a34d-b9795d95ca1e"
      },
      "outputs": [
        {
          "output_type": "stream",
          "name": "stdout",
          "text": [
            "2433152124331521_454442122315_25224313_003441344515253422\n"
          ]
        }
      ],
      "source": [
        "cle = \"MYSTER\"\n",
        "msg = \"CHERCHER POLYBE DANS WIKIPEDIA\"\n",
        "crypte = Crypter_Polybe(msg, cle)\n",
        "print(crypte)\n"
      ]
    },
    {
      "cell_type": "code",
      "source": [
        "def Decrypter_Polybe(msgc,cle):\n",
        "  M=matrice(cle)\n",
        "  msg=''\n",
        "  pos=0\n",
        "  while pos <len(msgc):\n",
        "    if msgc[pos]=='0':\n",
        "      msg+='W'\n",
        "      pos+=2\n",
        "    elif msgc[pos]=='_':\n",
        "      msg+=' '\n",
        "      pos+=1\n",
        "    else:\n",
        "      i,j=int(msgc[pos])-1,int(msgc[pos+1])-1\n",
        "      msg+=M[i][j]\n",
        "      pos+=2\n",
        "  return msg    "
      ],
      "metadata": {
        "id": "WFvccXUTxyRp"
      },
      "execution_count": 46,
      "outputs": []
    },
    {
      "cell_type": "code",
      "source": [
        "cle = \"MYSTER\"\n",
        "msg = \"CHERCHER POLYBE DANS WIKIPEDIA\"\n",
        "crypte = Crypter_Polybe(msg, cle)\n",
        "print(crypte)\n",
        "msg=Decrypter_Polybe(crypte,cle)\n",
        "print(msg)\n"
      ],
      "metadata": {
        "colab": {
          "base_uri": "https://localhost:8080/"
        },
        "id": "W1BcoaDwtXim",
        "outputId": "d990adac-eb1c-46ae-84ff-07092fa830aa"
      },
      "execution_count": 47,
      "outputs": [
        {
          "output_type": "stream",
          "name": "stdout",
          "text": [
            "2433152124331521_454442122315_25224313_003441344515253422\n",
            "CHERCHER POLYBE DANS WIKIPEDIA\n"
          ]
        }
      ]
    },
    {
      "cell_type": "code",
      "source": [],
      "metadata": {
        "id": "uW72jPuD-eUC"
      },
      "execution_count": null,
      "outputs": []
    }
  ],
  "metadata": {
    "kernelspec": {
      "display_name": "Python 3 (ipykernel)",
      "language": "python",
      "name": "python3"
    },
    "language_info": {
      "codemirror_mode": {
        "name": "ipython",
        "version": 3
      },
      "file_extension": ".py",
      "mimetype": "text/x-python",
      "name": "python",
      "nbconvert_exporter": "python",
      "pygments_lexer": "ipython3",
      "version": "3.9.13"
    },
    "colab": {
      "provenance": [],
      "include_colab_link": true
    }
  },
  "nbformat": 4,
  "nbformat_minor": 0
}